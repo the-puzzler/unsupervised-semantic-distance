{
 "cells": [
  {
   "cell_type": "code",
   "execution_count": 6,
   "metadata": {},
   "outputs": [],
   "source": [
    "from cosmograph_widget import Cosmograph\n",
    "import pandas as pd\n"
   ]
  },
  {
   "cell_type": "code",
   "execution_count": 21,
   "metadata": {},
   "outputs": [],
   "source": [
    "# Read the CSV file\n",
    "df = pd.read_csv('high_scoring_relationships.csv')\n",
    "\n",
    "# Create points DataFrame - we need to get unique terms from both columns\n",
    "terms1 = df['term1'].unique()\n",
    "terms2 = df['term2'].unique()\n",
    "unique_terms = pd.unique(pd.concat([pd.Series(terms1), pd.Series(terms2)]))\n",
    "\n",
    "# Create points DataFrame with sequential index\n",
    "points = pd.DataFrame({\n",
    "    'index': range(len(unique_terms)),\n",
    "    'id': unique_terms,\n",
    "    # You can customize the color or use a single color for all points\n",
    "    'color': '#88C6FF'  \n",
    "})\n",
    "\n",
    "# Create links DataFrame\n",
    "links = pd.DataFrame({\n",
    "    'source': df['term1'],\n",
    "    'target': df['term2']\n",
    "})\n",
    "\n",
    "# Add source and target indices by merging with points\n",
    "links = links.merge(points[['index', 'id']], \n",
    "                   left_on='source', \n",
    "                   right_on='id', \n",
    "                   suffixes=('', '_'))\\\n",
    "            .merge(points[['index', 'id']], \n",
    "                   left_on='target', \n",
    "                   right_on='id', \n",
    "                   suffixes=('_source', '_target'))\n",
    "\n",
    "# Rename columns to match required format\n",
    "links = links.rename(columns={\n",
    "    'index_source': 'sourceidx',\n",
    "    'index_target': 'targetidx'\n",
    "})\n",
    "\n",
    "# Initialize the Cosmograph widget\n",
    "cosmo = Cosmograph(points=points, links=links,\n",
    "    point_id='id',\n",
    "    point_index='index',\n",
    "    point_color='color',\n",
    "    link_source='source',\n",
    "    link_source_index='sourceidx',\n",
    "    link_target='target',\n",
    "    link_target_index='targetidx',\n",
    "    simulation_repulsion_theta = 1.71,\n",
    "    simulation_gravity = 0.5,\n",
    "    simulation_repulsion = 1.4,\n",
    "    link_strength = '2',\n",
    "    simulation_link_distance = 1,\n",
    "    simulation_friction = 1,\n",
    "    show_hovered_point_label = True,\n",
    "    show_dynamic_labels = True\n",
    "    \n",
    ")"
   ]
  },
  {
   "cell_type": "code",
   "execution_count": 24,
   "metadata": {},
   "outputs": [],
   "source": [
    "#display(cosmo)"
   ]
  }
 ],
 "metadata": {
  "kernelspec": {
   "display_name": "cosmograph",
   "language": "python",
   "name": "python3"
  },
  "language_info": {
   "codemirror_mode": {
    "name": "ipython",
    "version": 3
   },
   "file_extension": ".py",
   "mimetype": "text/x-python",
   "name": "python",
   "nbconvert_exporter": "python",
   "pygments_lexer": "ipython3",
   "version": "3.13.0"
  }
 },
 "nbformat": 4,
 "nbformat_minor": 2
}
